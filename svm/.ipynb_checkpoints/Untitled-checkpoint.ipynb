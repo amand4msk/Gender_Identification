{
 "cells": [
  {
   "cell_type": "code",
   "execution_count": 44,
   "metadata": {
    "collapsed": true
   },
   "outputs": [],
   "source": [
    "%matplotlib inline\n",
    "from pylab import *\n",
    "import glob\n",
    "import ntpath\n"
   ]
  },
  {
   "cell_type": "code",
   "execution_count": 54,
   "metadata": {
    "collapsed": false
   },
   "outputs": [],
   "source": [
    "path2 = '*.txt'\n",
    "\n",
    "def path_leaf(name):\n",
    "    head, tail = ntpath.split(name)\n",
    "    return tail or ntpath.basename(head)\n",
    "\n",
    "def load_parameters():\n",
    "    all_results = []\n",
    "    filename = []\n",
    "    for name in os.listdir('.'):\n",
    "        results = []\n",
    "        with open(name) as f:\n",
    "            filen = path_leaf(name)\n",
    "            fname = filen.split(\".\")\n",
    "            filename.append(fname[0])\n",
    "            for line in f.readlines():\n",
    "                l = line.strip()\n",
    "                val = l.replace(\" \",\"\").split(\":\")\n",
    "                cparam = val[0].split(\"=\")\n",
    "                results.append((float(val[1]),float(cparam[1])))\n",
    "        all_results.append(results)\n",
    "\n",
    "    #print all_results\n",
    "\n",
    "    all_sorted_res = []\n",
    "    for res in all_results: \n",
    "        sorted_arr = sorted(res, key=lambda tup: tup[1])\n",
    "        sorted_res = [val[0] for val in sorted_arr]\n",
    "        sorted_c = [val[1] for val in sorted_arr]\n",
    "        all_sorted_res = []\n",
    "    print all_sorted_res\n",
    "    return all_sorted_res"
   ]
  },
  {
   "cell_type": "code",
   "execution_count": 53,
   "metadata": {
    "collapsed": false
   },
   "outputs": [
    {
     "name": "stdout",
     "output_type": "stream",
     "text": [
      "[]\n"
     ]
    }
   ],
   "source": [
    "aa = load_parameters()"
   ]
  },
  {
   "cell_type": "code",
   "execution_count": null,
   "metadata": {
    "collapsed": false
   },
   "outputs": [],
   "source": []
  },
  {
   "cell_type": "code",
   "execution_count": null,
   "metadata": {
    "collapsed": true
   },
   "outputs": [],
   "source": []
  },
  {
   "cell_type": "code",
   "execution_count": null,
   "metadata": {
    "collapsed": false
   },
   "outputs": [],
   "source": []
  },
  {
   "cell_type": "code",
   "execution_count": null,
   "metadata": {
    "collapsed": true
   },
   "outputs": [],
   "source": []
  }
 ],
 "metadata": {
  "kernelspec": {
   "display_name": "Python 2",
   "language": "python",
   "name": "python2"
  },
  "language_info": {
   "codemirror_mode": {
    "name": "ipython",
    "version": 2
   },
   "file_extension": ".py",
   "mimetype": "text/x-python",
   "name": "python",
   "nbconvert_exporter": "python",
   "pygments_lexer": "ipython2",
   "version": "2.7.10"
  }
 },
 "nbformat": 4,
 "nbformat_minor": 0
}
